{
 "cells": [
  {
   "cell_type": "markdown",
   "metadata": {},
   "source": [
    "## 파이선 미니 프로젝트 : '염상섭'의 <삼대>로 다시 보는 정규표현식 "
   ]
  },
  {
   "cell_type": "code",
   "execution_count": 21,
   "metadata": {},
   "outputs": [],
   "source": [
    "import re"
   ]
  },
  {
   "cell_type": "code",
   "execution_count": null,
   "metadata": {},
   "outputs": [],
   "source": [
    "'''\n",
    "with open(\"dataSet/samdae.txt\", \"r\", encoding=\"utf-8\") as data:\n",
    "    p = data.read()\n",
    "    print(p)\n",
    "'''"
   ]
  },
  {
   "cell_type": "markdown",
   "metadata": {},
   "source": [
    "> 단어들 품사별로 쪼개기 "
   ]
  },
  {
   "cell_type": "code",
   "execution_count": null,
   "metadata": {},
   "outputs": [],
   "source": [
    "'''\n",
    "from konlpy.tag import Okt\n",
    "from konlpy.utils import pprint\n",
    "kkma = Okt()\n",
    "lines= p.split('\\n')\n",
    "freq = {}\n",
    "for line in lines :\n",
    "    tokens=kkma.nouns(line)\n",
    "    pprint(kkma.pos(line))\n",
    "    for token in tokens:\n",
    "        if token in freq.keys():\n",
    "            freq[token] = freq[token]+1\n",
    "        else :\n",
    "            freq[token] = 1\n",
    "freq\n",
    "'''"
   ]
  },
  {
   "cell_type": "markdown",
   "metadata": {},
   "source": [
    ">하나. 소설의 제재 및 주제를 유추해 보자. (팁: 주어진 소설 속에서 주어로 가장 많이 쓰이는 단어는 무엇인가?)"
   ]
  },
  {
   "cell_type": "code",
   "execution_count": null,
   "metadata": {},
   "outputs": [],
   "source": []
  },
  {
   "cell_type": "markdown",
   "metadata": {},
   "source": [
    ">둘. 소설 속 인물의 비중을 유추해 보자. 등장인물은 '의관' ,'상훈', '덕기', '병화'로 한정한다. (팁: 주어진 텍스트에서 가장 많이 등장하는 인물의 이름은?)"
   ]
  },
  {
   "cell_type": "code",
   "execution_count": null,
   "metadata": {},
   "outputs": [],
   "source": []
  },
  {
   "cell_type": "markdown",
   "metadata": {},
   "source": [
    ">셋. 주인공 '덕기'의 행적을 추적하라. (팁: '덕기는'이라는 단어로 시작되는 문장을 찾는다.)"
   ]
  },
  {
   "cell_type": "code",
   "execution_count": null,
   "metadata": {},
   "outputs": [],
   "source": []
  },
  {
   "cell_type": "markdown",
   "metadata": {},
   "source": [
    ">넷. 소설 '삼대'에서 '족보'는 세대간 대립의 중요한 매개체이자, 한 세대를 대표하는 상징으로 작용한다. 족보와 가장 큰 연관성을 가진 인물은 누구인가? (팁: 족보라는 단어가 들어간 문장의 주어를 찾는다.)"
   ]
  },
  {
   "cell_type": "code",
   "execution_count": null,
   "metadata": {},
   "outputs": [],
   "source": []
  },
  {
   "cell_type": "markdown",
   "metadata": {},
   "source": [
    ">다섯. 21세기에 온 염상섭이 파이선을 활용해 주인공의 이름과 책의 제목을 시대에 맞게 바꾸려고 한다. '덕기'를 '승기'로 바꾸고 '삼대'를 '사대(Four Generations)'로 바꾼 후 '사대(Four Generations).txt'라는 이름으로 저장하고, 저장여부를 확인하라."
   ]
  },
  {
   "cell_type": "code",
   "execution_count": null,
   "metadata": {},
   "outputs": [],
   "source": [
    " "
   ]
  },
  {
   "cell_type": "markdown",
   "metadata": {},
   "source": [
    ">여섯. 염상섭은 '사대(Four Generations)'라는 이름으로 다시 태어난 이 소설을 해외 출판계에 등록하려고 한다.<br> 등륵할 표준도서번호ISBN에는 다음과 같은 제약조건이 있다.<br><br>\n",
    "1) 표준 도서 번호는 '세자리-두자리-네자리-세자리-한자리'의 형식을 취한다.<br>\n",
    "2) 첫 세자리는 978 혹은 979 여야만 한다.<br>\n",
    "3) 두번째 두자리는 국가번호로서 한국의 국가번호는 89이다.<br>\n",
    "4) 세번째 네자리는 출판사 번호로서 이 소설의 경우 1234이다.<br>\n",
    "5) 네번째 세자리는 숫자와 영문(대소문자 모두 가능) 중 자유롭게 조합하여 마음대로 정할 수 있다.<br>\n",
    "6) 다섯번째 한자리는 영문 대문자 A-N 사이의 알파벳 중 하나여야 한다.<br><br>\n",
    "위의 등록 제약조건에 부합하는 ISBN을 부여하라.<br>"
   ]
  },
  {
   "cell_type": "code",
   "execution_count": null,
   "metadata": {},
   "outputs": [],
   "source": []
  }
 ],
 "metadata": {
  "kernelspec": {
   "display_name": "Python 3",
   "language": "python",
   "name": "python3"
  },
  "language_info": {
   "codemirror_mode": {
    "name": "ipython",
    "version": 3
   },
   "file_extension": ".py",
   "mimetype": "text/x-python",
   "name": "python",
   "nbconvert_exporter": "python",
   "pygments_lexer": "ipython3",
   "version": "3.7.4"
  }
 },
 "nbformat": 4,
 "nbformat_minor": 2
}
